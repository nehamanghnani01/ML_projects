{
 "cells": [
  {
   "cell_type": "code",
   "execution_count": 49,
   "metadata": {},
   "outputs": [],
   "source": [
    "import pandas as pd\n",
    "import numpy as np\n",
    "import matplotlib.pyplot as plt\n",
    "import xgboost as xgb\n",
    "from sklearn.model_selection import cross_val_score, StratifiedKFold\n",
    "from sklearn.preprocessing import OneHotEncoder\n",
    "from sklearn.preprocessing import LabelEncoder\n",
    "from sklearn.metrics import roc_curve, roc_auc_score\n"
   ]
  },
  {
   "cell_type": "markdown",
   "metadata": {},
   "source": [
    "## Part A - Classification Tree (50 points)"
   ]
  },
  {
   "cell_type": "markdown",
   "metadata": {},
   "source": [
    "### A-1 Data Processing and EDA"
   ]
  },
  {
   "cell_type": "markdown",
   "metadata": {},
   "source": [
    "#### 1. Read Data"
   ]
  },
  {
   "cell_type": "code",
   "execution_count": 50,
   "metadata": {},
   "outputs": [],
   "source": [
    "\n",
    "train_data = pd.read_csv('data_train.csv')"
   ]
  },
  {
   "cell_type": "markdown",
   "metadata": {},
   "source": [
    "#### 2. Print data, how does the data look like? Short description on the data"
   ]
  },
  {
   "cell_type": "code",
   "execution_count": 51,
   "metadata": {},
   "outputs": [
    {
     "name": "stdout",
     "output_type": "stream",
     "text": [
      "    Loan_ID Gender Married Dependents Education Self_Employed  \\\n",
      "0  LP001518   Male     Yes          1  Graduate            No   \n",
      "1  LP002734   Male     Yes          0  Graduate            No   \n",
      "2  LP002697   Male      No          0  Graduate            No   \n",
      "3  LP002455   Male     Yes          2  Graduate            No   \n",
      "4  LP001732   Male     Yes          2  Graduate           NaN   \n",
      "\n",
      "   ApplicantIncome  CoapplicantIncome  LoanAmount  Loan_Amount_Term  \\\n",
      "0             1538             1425.0        30.0             360.0   \n",
      "1             6133             3906.0       324.0             360.0   \n",
      "2             4680             2087.0         NaN             360.0   \n",
      "3             3859                0.0        96.0             360.0   \n",
      "4             5000                0.0        72.0             360.0   \n",
      "\n",
      "   Credit_History Property_Area Loan_Status  \n",
      "0             1.0         Urban           Y  \n",
      "1             1.0         Urban           Y  \n",
      "2             1.0     Semiurban           N  \n",
      "3             1.0     Semiurban           Y  \n",
      "4             0.0     Semiurban           N  \n"
     ]
    }
   ],
   "source": [
    "train_data = train_data.drop(train_data.columns[0], axis=1)\n",
    "print(train_data.head())"
   ]
  },
  {
   "cell_type": "markdown",
   "metadata": {},
   "source": [
    "This is a Loan Dataset where there 13 columns. \n",
    "\n",
    "There are 12 features and 1 label (Loan_Status)\n",
    "\n",
    "There are 11 feature columns (excluding Loan_ID) which decide whether the loan is granted or not (Loan_Status label)\n"
   ]
  },
  {
   "cell_type": "markdown",
   "metadata": {},
   "source": [
    "#### 3. Shape of the Data "
   ]
  },
  {
   "cell_type": "code",
   "execution_count": 52,
   "metadata": {},
   "outputs": [
    {
     "name": "stdout",
     "output_type": "stream",
     "text": [
      "(491, 13)\n"
     ]
    }
   ],
   "source": [
    "print(train_data.shape)"
   ]
  },
  {
   "cell_type": "markdown",
   "metadata": {},
   "source": [
    "#### 4. Does the data have any missing values? How many are missing? Process the data to remove these missing values. You can drop the corresponding rows or apply imputation."
   ]
  },
  {
   "cell_type": "code",
   "execution_count": 53,
   "metadata": {},
   "outputs": [
    {
     "name": "stdout",
     "output_type": "stream",
     "text": [
      "Missing values in data = \n",
      " Loan_ID               0\n",
      "Gender               12\n",
      "Married               3\n",
      "Dependents           13\n",
      "Education             0\n",
      "Self_Employed        29\n",
      "ApplicantIncome       0\n",
      "CoapplicantIncome     0\n",
      "LoanAmount           17\n",
      "Loan_Amount_Term     12\n",
      "Credit_History       43\n",
      "Property_Area         0\n",
      "Loan_Status           0\n",
      "dtype: int64\n"
     ]
    }
   ],
   "source": [
    "print(f\"Missing values in data = \\n {train_data.isnull().sum()}\")"
   ]
  },
  {
   "cell_type": "code",
   "execution_count": 54,
   "metadata": {},
   "outputs": [],
   "source": [
    "# remove missing values \n",
    "train_data = train_data.dropna()"
   ]
  },
  {
   "cell_type": "code",
   "execution_count": 55,
   "metadata": {},
   "outputs": [
    {
     "data": {
      "text/plain": [
       "(373, 13)"
      ]
     },
     "execution_count": 55,
     "metadata": {},
     "output_type": "execute_result"
    }
   ],
   "source": [
    "train_data.shape"
   ]
  },
  {
   "cell_type": "code",
   "execution_count": 56,
   "metadata": {},
   "outputs": [
    {
     "data": {
      "text/html": [
       "<div>\n",
       "<style scoped>\n",
       "    .dataframe tbody tr th:only-of-type {\n",
       "        vertical-align: middle;\n",
       "    }\n",
       "\n",
       "    .dataframe tbody tr th {\n",
       "        vertical-align: top;\n",
       "    }\n",
       "\n",
       "    .dataframe thead th {\n",
       "        text-align: right;\n",
       "    }\n",
       "</style>\n",
       "<table border=\"1\" class=\"dataframe\">\n",
       "  <thead>\n",
       "    <tr style=\"text-align: right;\">\n",
       "      <th></th>\n",
       "      <th>Loan_ID</th>\n",
       "      <th>Gender</th>\n",
       "      <th>Married</th>\n",
       "      <th>Dependents</th>\n",
       "      <th>Education</th>\n",
       "      <th>Self_Employed</th>\n",
       "      <th>ApplicantIncome</th>\n",
       "      <th>CoapplicantIncome</th>\n",
       "      <th>LoanAmount</th>\n",
       "      <th>Loan_Amount_Term</th>\n",
       "      <th>Credit_History</th>\n",
       "      <th>Property_Area</th>\n",
       "      <th>Loan_Status</th>\n",
       "    </tr>\n",
       "  </thead>\n",
       "  <tbody>\n",
       "    <tr>\n",
       "      <th>0</th>\n",
       "      <td>LP001518</td>\n",
       "      <td>Male</td>\n",
       "      <td>Yes</td>\n",
       "      <td>1</td>\n",
       "      <td>Graduate</td>\n",
       "      <td>No</td>\n",
       "      <td>1538</td>\n",
       "      <td>1425.0</td>\n",
       "      <td>30.0</td>\n",
       "      <td>360.0</td>\n",
       "      <td>1.0</td>\n",
       "      <td>Urban</td>\n",
       "      <td>Y</td>\n",
       "    </tr>\n",
       "    <tr>\n",
       "      <th>1</th>\n",
       "      <td>LP002734</td>\n",
       "      <td>Male</td>\n",
       "      <td>Yes</td>\n",
       "      <td>0</td>\n",
       "      <td>Graduate</td>\n",
       "      <td>No</td>\n",
       "      <td>6133</td>\n",
       "      <td>3906.0</td>\n",
       "      <td>324.0</td>\n",
       "      <td>360.0</td>\n",
       "      <td>1.0</td>\n",
       "      <td>Urban</td>\n",
       "      <td>Y</td>\n",
       "    </tr>\n",
       "    <tr>\n",
       "      <th>3</th>\n",
       "      <td>LP002455</td>\n",
       "      <td>Male</td>\n",
       "      <td>Yes</td>\n",
       "      <td>2</td>\n",
       "      <td>Graduate</td>\n",
       "      <td>No</td>\n",
       "      <td>3859</td>\n",
       "      <td>0.0</td>\n",
       "      <td>96.0</td>\n",
       "      <td>360.0</td>\n",
       "      <td>1.0</td>\n",
       "      <td>Semiurban</td>\n",
       "      <td>Y</td>\n",
       "    </tr>\n",
       "    <tr>\n",
       "      <th>5</th>\n",
       "      <td>LP001841</td>\n",
       "      <td>Male</td>\n",
       "      <td>No</td>\n",
       "      <td>0</td>\n",
       "      <td>Not Graduate</td>\n",
       "      <td>Yes</td>\n",
       "      <td>2583</td>\n",
       "      <td>2167.0</td>\n",
       "      <td>104.0</td>\n",
       "      <td>360.0</td>\n",
       "      <td>1.0</td>\n",
       "      <td>Rural</td>\n",
       "      <td>Y</td>\n",
       "    </tr>\n",
       "    <tr>\n",
       "      <th>6</th>\n",
       "      <td>LP002348</td>\n",
       "      <td>Male</td>\n",
       "      <td>Yes</td>\n",
       "      <td>0</td>\n",
       "      <td>Graduate</td>\n",
       "      <td>No</td>\n",
       "      <td>5829</td>\n",
       "      <td>0.0</td>\n",
       "      <td>138.0</td>\n",
       "      <td>360.0</td>\n",
       "      <td>1.0</td>\n",
       "      <td>Rural</td>\n",
       "      <td>Y</td>\n",
       "    </tr>\n",
       "  </tbody>\n",
       "</table>\n",
       "</div>"
      ],
      "text/plain": [
       "    Loan_ID Gender Married Dependents     Education Self_Employed  \\\n",
       "0  LP001518   Male     Yes          1      Graduate            No   \n",
       "1  LP002734   Male     Yes          0      Graduate            No   \n",
       "3  LP002455   Male     Yes          2      Graduate            No   \n",
       "5  LP001841   Male      No          0  Not Graduate           Yes   \n",
       "6  LP002348   Male     Yes          0      Graduate            No   \n",
       "\n",
       "   ApplicantIncome  CoapplicantIncome  LoanAmount  Loan_Amount_Term  \\\n",
       "0             1538             1425.0        30.0             360.0   \n",
       "1             6133             3906.0       324.0             360.0   \n",
       "3             3859                0.0        96.0             360.0   \n",
       "5             2583             2167.0       104.0             360.0   \n",
       "6             5829                0.0       138.0             360.0   \n",
       "\n",
       "   Credit_History Property_Area Loan_Status  \n",
       "0             1.0         Urban           Y  \n",
       "1             1.0         Urban           Y  \n",
       "3             1.0     Semiurban           Y  \n",
       "5             1.0         Rural           Y  \n",
       "6             1.0         Rural           Y  "
      ]
     },
     "execution_count": 56,
     "metadata": {},
     "output_type": "execute_result"
    }
   ],
   "source": [
    "train_data.head()"
   ]
  },
  {
   "cell_type": "markdown",
   "metadata": {},
   "source": [
    "#### 5. Extract the features and the label from the data"
   ]
  },
  {
   "cell_type": "code",
   "execution_count": 57,
   "metadata": {},
   "outputs": [
    {
     "name": "stdout",
     "output_type": "stream",
     "text": [
      "(373, 12) (373,)\n"
     ]
    }
   ],
   "source": [
    "features = train_data.drop(\"Loan_Status\", axis=1)\n",
    "labels = train_data[\"Loan_Status\"]\n",
    "print(features.shape, labels.shape)"
   ]
  },
  {
   "cell_type": "code",
   "execution_count": 58,
   "metadata": {},
   "outputs": [
    {
     "data": {
      "text/html": [
       "<div>\n",
       "<style scoped>\n",
       "    .dataframe tbody tr th:only-of-type {\n",
       "        vertical-align: middle;\n",
       "    }\n",
       "\n",
       "    .dataframe tbody tr th {\n",
       "        vertical-align: top;\n",
       "    }\n",
       "\n",
       "    .dataframe thead th {\n",
       "        text-align: right;\n",
       "    }\n",
       "</style>\n",
       "<table border=\"1\" class=\"dataframe\">\n",
       "  <thead>\n",
       "    <tr style=\"text-align: right;\">\n",
       "      <th></th>\n",
       "      <th>Gender</th>\n",
       "      <th>Married</th>\n",
       "      <th>Dependents</th>\n",
       "      <th>Education</th>\n",
       "      <th>Self_Employed</th>\n",
       "      <th>Credit_History</th>\n",
       "      <th>Property_Area</th>\n",
       "      <th>ApplicantIncome</th>\n",
       "      <th>CoapplicantIncome</th>\n",
       "      <th>LoanAmount</th>\n",
       "      <th>Loan_Amount_Term</th>\n",
       "    </tr>\n",
       "  </thead>\n",
       "  <tbody>\n",
       "    <tr>\n",
       "      <th>0</th>\n",
       "      <td>1</td>\n",
       "      <td>1</td>\n",
       "      <td>1</td>\n",
       "      <td>0</td>\n",
       "      <td>0</td>\n",
       "      <td>1</td>\n",
       "      <td>2</td>\n",
       "      <td>1538</td>\n",
       "      <td>1425.0</td>\n",
       "      <td>30.0</td>\n",
       "      <td>360.0</td>\n",
       "    </tr>\n",
       "    <tr>\n",
       "      <th>1</th>\n",
       "      <td>1</td>\n",
       "      <td>1</td>\n",
       "      <td>0</td>\n",
       "      <td>0</td>\n",
       "      <td>0</td>\n",
       "      <td>1</td>\n",
       "      <td>2</td>\n",
       "      <td>6133</td>\n",
       "      <td>3906.0</td>\n",
       "      <td>324.0</td>\n",
       "      <td>360.0</td>\n",
       "    </tr>\n",
       "    <tr>\n",
       "      <th>3</th>\n",
       "      <td>1</td>\n",
       "      <td>1</td>\n",
       "      <td>2</td>\n",
       "      <td>0</td>\n",
       "      <td>0</td>\n",
       "      <td>1</td>\n",
       "      <td>1</td>\n",
       "      <td>3859</td>\n",
       "      <td>0.0</td>\n",
       "      <td>96.0</td>\n",
       "      <td>360.0</td>\n",
       "    </tr>\n",
       "    <tr>\n",
       "      <th>5</th>\n",
       "      <td>1</td>\n",
       "      <td>0</td>\n",
       "      <td>0</td>\n",
       "      <td>1</td>\n",
       "      <td>1</td>\n",
       "      <td>1</td>\n",
       "      <td>0</td>\n",
       "      <td>2583</td>\n",
       "      <td>2167.0</td>\n",
       "      <td>104.0</td>\n",
       "      <td>360.0</td>\n",
       "    </tr>\n",
       "    <tr>\n",
       "      <th>6</th>\n",
       "      <td>1</td>\n",
       "      <td>1</td>\n",
       "      <td>0</td>\n",
       "      <td>0</td>\n",
       "      <td>0</td>\n",
       "      <td>1</td>\n",
       "      <td>0</td>\n",
       "      <td>5829</td>\n",
       "      <td>0.0</td>\n",
       "      <td>138.0</td>\n",
       "      <td>360.0</td>\n",
       "    </tr>\n",
       "    <tr>\n",
       "      <th>7</th>\n",
       "      <td>0</td>\n",
       "      <td>0</td>\n",
       "      <td>0</td>\n",
       "      <td>0</td>\n",
       "      <td>1</td>\n",
       "      <td>1</td>\n",
       "      <td>1</td>\n",
       "      <td>15759</td>\n",
       "      <td>0.0</td>\n",
       "      <td>55.0</td>\n",
       "      <td>360.0</td>\n",
       "    </tr>\n",
       "    <tr>\n",
       "      <th>8</th>\n",
       "      <td>1</td>\n",
       "      <td>1</td>\n",
       "      <td>1</td>\n",
       "      <td>0</td>\n",
       "      <td>1</td>\n",
       "      <td>0</td>\n",
       "      <td>0</td>\n",
       "      <td>2178</td>\n",
       "      <td>0.0</td>\n",
       "      <td>66.0</td>\n",
       "      <td>300.0</td>\n",
       "    </tr>\n",
       "    <tr>\n",
       "      <th>9</th>\n",
       "      <td>0</td>\n",
       "      <td>0</td>\n",
       "      <td>0</td>\n",
       "      <td>0</td>\n",
       "      <td>0</td>\n",
       "      <td>1</td>\n",
       "      <td>1</td>\n",
       "      <td>4124</td>\n",
       "      <td>0.0</td>\n",
       "      <td>115.0</td>\n",
       "      <td>360.0</td>\n",
       "    </tr>\n",
       "    <tr>\n",
       "      <th>10</th>\n",
       "      <td>1</td>\n",
       "      <td>0</td>\n",
       "      <td>0</td>\n",
       "      <td>0</td>\n",
       "      <td>0</td>\n",
       "      <td>1</td>\n",
       "      <td>2</td>\n",
       "      <td>5316</td>\n",
       "      <td>0.0</td>\n",
       "      <td>136.0</td>\n",
       "      <td>360.0</td>\n",
       "    </tr>\n",
       "    <tr>\n",
       "      <th>12</th>\n",
       "      <td>1</td>\n",
       "      <td>1</td>\n",
       "      <td>3</td>\n",
       "      <td>0</td>\n",
       "      <td>0</td>\n",
       "      <td>1</td>\n",
       "      <td>0</td>\n",
       "      <td>15000</td>\n",
       "      <td>0.0</td>\n",
       "      <td>300.0</td>\n",
       "      <td>360.0</td>\n",
       "    </tr>\n",
       "    <tr>\n",
       "      <th>13</th>\n",
       "      <td>1</td>\n",
       "      <td>1</td>\n",
       "      <td>3</td>\n",
       "      <td>0</td>\n",
       "      <td>0</td>\n",
       "      <td>0</td>\n",
       "      <td>0</td>\n",
       "      <td>3400</td>\n",
       "      <td>2500.0</td>\n",
       "      <td>123.0</td>\n",
       "      <td>360.0</td>\n",
       "    </tr>\n",
       "    <tr>\n",
       "      <th>14</th>\n",
       "      <td>1</td>\n",
       "      <td>1</td>\n",
       "      <td>2</td>\n",
       "      <td>0</td>\n",
       "      <td>0</td>\n",
       "      <td>1</td>\n",
       "      <td>1</td>\n",
       "      <td>6540</td>\n",
       "      <td>0.0</td>\n",
       "      <td>205.0</td>\n",
       "      <td>360.0</td>\n",
       "    </tr>\n",
       "    <tr>\n",
       "      <th>15</th>\n",
       "      <td>1</td>\n",
       "      <td>1</td>\n",
       "      <td>3</td>\n",
       "      <td>0</td>\n",
       "      <td>0</td>\n",
       "      <td>1</td>\n",
       "      <td>2</td>\n",
       "      <td>5250</td>\n",
       "      <td>0.0</td>\n",
       "      <td>94.0</td>\n",
       "      <td>360.0</td>\n",
       "    </tr>\n",
       "    <tr>\n",
       "      <th>16</th>\n",
       "      <td>0</td>\n",
       "      <td>1</td>\n",
       "      <td>0</td>\n",
       "      <td>1</td>\n",
       "      <td>0</td>\n",
       "      <td>1</td>\n",
       "      <td>1</td>\n",
       "      <td>1928</td>\n",
       "      <td>1644.0</td>\n",
       "      <td>100.0</td>\n",
       "      <td>360.0</td>\n",
       "    </tr>\n",
       "    <tr>\n",
       "      <th>17</th>\n",
       "      <td>1</td>\n",
       "      <td>1</td>\n",
       "      <td>3</td>\n",
       "      <td>0</td>\n",
       "      <td>1</td>\n",
       "      <td>1</td>\n",
       "      <td>1</td>\n",
       "      <td>10139</td>\n",
       "      <td>0.0</td>\n",
       "      <td>260.0</td>\n",
       "      <td>360.0</td>\n",
       "    </tr>\n",
       "    <tr>\n",
       "      <th>19</th>\n",
       "      <td>0</td>\n",
       "      <td>0</td>\n",
       "      <td>0</td>\n",
       "      <td>0</td>\n",
       "      <td>0</td>\n",
       "      <td>1</td>\n",
       "      <td>0</td>\n",
       "      <td>3762</td>\n",
       "      <td>1666.0</td>\n",
       "      <td>135.0</td>\n",
       "      <td>360.0</td>\n",
       "    </tr>\n",
       "    <tr>\n",
       "      <th>20</th>\n",
       "      <td>1</td>\n",
       "      <td>1</td>\n",
       "      <td>2</td>\n",
       "      <td>1</td>\n",
       "      <td>0</td>\n",
       "      <td>1</td>\n",
       "      <td>0</td>\n",
       "      <td>4200</td>\n",
       "      <td>1430.0</td>\n",
       "      <td>129.0</td>\n",
       "      <td>360.0</td>\n",
       "    </tr>\n",
       "    <tr>\n",
       "      <th>21</th>\n",
       "      <td>0</td>\n",
       "      <td>0</td>\n",
       "      <td>0</td>\n",
       "      <td>0</td>\n",
       "      <td>0</td>\n",
       "      <td>1</td>\n",
       "      <td>2</td>\n",
       "      <td>3237</td>\n",
       "      <td>0.0</td>\n",
       "      <td>30.0</td>\n",
       "      <td>360.0</td>\n",
       "    </tr>\n",
       "    <tr>\n",
       "      <th>22</th>\n",
       "      <td>1</td>\n",
       "      <td>1</td>\n",
       "      <td>0</td>\n",
       "      <td>0</td>\n",
       "      <td>0</td>\n",
       "      <td>1</td>\n",
       "      <td>2</td>\n",
       "      <td>1820</td>\n",
       "      <td>1719.0</td>\n",
       "      <td>100.0</td>\n",
       "      <td>360.0</td>\n",
       "    </tr>\n",
       "    <tr>\n",
       "      <th>25</th>\n",
       "      <td>1</td>\n",
       "      <td>1</td>\n",
       "      <td>3</td>\n",
       "      <td>0</td>\n",
       "      <td>0</td>\n",
       "      <td>1</td>\n",
       "      <td>2</td>\n",
       "      <td>3029</td>\n",
       "      <td>0.0</td>\n",
       "      <td>99.0</td>\n",
       "      <td>360.0</td>\n",
       "    </tr>\n",
       "  </tbody>\n",
       "</table>\n",
       "</div>"
      ],
      "text/plain": [
       "    Gender  Married  Dependents  Education  Self_Employed  Credit_History  \\\n",
       "0        1        1           1          0              0               1   \n",
       "1        1        1           0          0              0               1   \n",
       "3        1        1           2          0              0               1   \n",
       "5        1        0           0          1              1               1   \n",
       "6        1        1           0          0              0               1   \n",
       "7        0        0           0          0              1               1   \n",
       "8        1        1           1          0              1               0   \n",
       "9        0        0           0          0              0               1   \n",
       "10       1        0           0          0              0               1   \n",
       "12       1        1           3          0              0               1   \n",
       "13       1        1           3          0              0               0   \n",
       "14       1        1           2          0              0               1   \n",
       "15       1        1           3          0              0               1   \n",
       "16       0        1           0          1              0               1   \n",
       "17       1        1           3          0              1               1   \n",
       "19       0        0           0          0              0               1   \n",
       "20       1        1           2          1              0               1   \n",
       "21       0        0           0          0              0               1   \n",
       "22       1        1           0          0              0               1   \n",
       "25       1        1           3          0              0               1   \n",
       "\n",
       "    Property_Area  ApplicantIncome  CoapplicantIncome  LoanAmount  \\\n",
       "0               2             1538             1425.0        30.0   \n",
       "1               2             6133             3906.0       324.0   \n",
       "3               1             3859                0.0        96.0   \n",
       "5               0             2583             2167.0       104.0   \n",
       "6               0             5829                0.0       138.0   \n",
       "7               1            15759                0.0        55.0   \n",
       "8               0             2178                0.0        66.0   \n",
       "9               1             4124                0.0       115.0   \n",
       "10              2             5316                0.0       136.0   \n",
       "12              0            15000                0.0       300.0   \n",
       "13              0             3400             2500.0       123.0   \n",
       "14              1             6540                0.0       205.0   \n",
       "15              2             5250                0.0        94.0   \n",
       "16              1             1928             1644.0       100.0   \n",
       "17              1            10139                0.0       260.0   \n",
       "19              0             3762             1666.0       135.0   \n",
       "20              0             4200             1430.0       129.0   \n",
       "21              2             3237                0.0        30.0   \n",
       "22              2             1820             1719.0       100.0   \n",
       "25              2             3029                0.0        99.0   \n",
       "\n",
       "    Loan_Amount_Term  \n",
       "0              360.0  \n",
       "1              360.0  \n",
       "3              360.0  \n",
       "5              360.0  \n",
       "6              360.0  \n",
       "7              360.0  \n",
       "8              300.0  \n",
       "9              360.0  \n",
       "10             360.0  \n",
       "12             360.0  \n",
       "13             360.0  \n",
       "14             360.0  \n",
       "15             360.0  \n",
       "16             360.0  \n",
       "17             360.0  \n",
       "19             360.0  \n",
       "20             360.0  \n",
       "21             360.0  \n",
       "22             360.0  \n",
       "25             360.0  "
      ]
     },
     "execution_count": 58,
     "metadata": {},
     "output_type": "execute_result"
    }
   ],
   "source": [
    "# Separate categorical and numerical columns\n",
    "categorical_cols = ['Gender', 'Married', 'Dependents','Education', 'Self_Employed','Credit_History','Property_Area']\n",
    "numerical_cols = ['ApplicantIncome','CoapplicantIncome','LoanAmount','Loan_Amount_Term']\n",
    "label_col = 'Loan_Status'\n",
    "\n",
    "# Apply label encoding to categorical columns\n",
    "label_encoder = LabelEncoder()\n",
    "train_data_encoded = train_data.copy()\n",
    "for col in categorical_cols:\n",
    "    train_data_encoded[col] = label_encoder.fit_transform(train_data[col])\n",
    "\n",
    "# Extract labels and apply label encoding\n",
    "y_encoded = label_encoder.fit_transform(train_data[label_col])\n",
    "\n",
    "# Extract features\n",
    "X_encoded = train_data_encoded[categorical_cols + numerical_cols]\n",
    "\n",
    "y_encoded = label_encoder.fit_transform(train_data[label_col])\n",
    "y_encoded = pd.Series(y_encoded)\n",
    "\n",
    "X_encoded.head(20)\n"
   ]
  },
  {
   "cell_type": "code",
   "execution_count": 59,
   "metadata": {},
   "outputs": [
    {
     "data": {
      "text/plain": [
       "0     1\n",
       "1     1\n",
       "2     1\n",
       "3     1\n",
       "4     1\n",
       "5     1\n",
       "6     0\n",
       "7     1\n",
       "8     1\n",
       "9     1\n",
       "10    0\n",
       "11    1\n",
       "12    0\n",
       "13    1\n",
       "14    1\n",
       "15    1\n",
       "16    0\n",
       "17    1\n",
       "18    1\n",
       "19    1\n",
       "dtype: int32"
      ]
     },
     "execution_count": 59,
     "metadata": {},
     "output_type": "execute_result"
    }
   ],
   "source": [
    "y_encoded.head(20)"
   ]
  },
  {
   "cell_type": "markdown",
   "metadata": {},
   "source": [
    "#### 6. Plot the histograms of all the variables in the data.\n"
   ]
  },
  {
   "cell_type": "code",
   "execution_count": 61,
   "metadata": {},
   "outputs": [
    {
     "data": {
      "image/png": "[encoded data removed]",
      "text/plain": [
       "<Figure size 1500x1000 with 12 Axes>"
      ]
     },
     "metadata": {},
     "output_type": "display_data"
    }
   ],
   "source": [
    "X_encoded.hist(bins=20, figsize=(15, 10))\n",
    "plt.suptitle(\"Feature Histograms\")\n",
    "plt.show()"
   ]
  },
  {
   "cell_type": "markdown",
   "metadata": {},
   "source": [
    "#### 7. What are the different feature types in this data"
   ]
  },
  {
   "cell_type": "markdown",
   "metadata": {},
   "source": [
    "There are two feature types : Continous and Categorical \n",
    "\n",
    "Categorical data has distinct categories that does not have a natural ordering or rank between them. \n",
    "\n",
    "Continous data will usually be a numeric value in a specified range. \n",
    "\n",
    "In the given dataset, the Continous variables are as follows : \n",
    "1. ApplicantIncome\n",
    "2. CoapplicantIncome\n",
    "3. LoanAmount\n",
    "4. Loan_Amount_Term\n",
    "\n",
    "And, the Categorical features are as follows : \n",
    "1. Loan_ID\n",
    "2. Gender\n",
    "3. Married\n",
    "4. Dependents\n",
    "5. Education\n",
    "6. Self_Employed\n",
    "7. Credit_History\n",
    "8. Property_Area\n",
    "9. Loan_Status\n",
    "\n",
    "Dependents and Credit_History are numeric variables but there are only fixed numeric values associated with it which act as classes and hence these columns are also considered to be Categorical in nature"
   ]
  },
  {
   "cell_type": "markdown",
   "metadata": {},
   "source": [
    "### A-2 Implementation"
   ]
  },
  {
   "cell_type": "markdown",
   "metadata": {},
   "source": [
    "#### 1.  Implement a classification tree from scratch for prediction."
   ]
  },
  {
   "cell_type": "code",
   "execution_count": 62,
   "metadata": {},
   "outputs": [
    {
     "name": "stdout",
     "output_type": "stream",
     "text": [
      "      Loan_ID Gender Married Dependents     Education Self_Employed  \\\n",
      "0    LP001518   Male     Yes          1      Graduate            No   \n",
      "1    LP002734   Male     Yes          0      Graduate            No   \n",
      "3    LP002455   Male     Yes          2      Graduate            No   \n",
      "5    LP001841   Male      No          0  Not Graduate           Yes   \n",
      "6    LP002348   Male     Yes          0      Graduate            No   \n",
      "..        ...    ...     ...        ...           ...           ...   \n",
      "381  LP002068   Male      No          0      Graduate            No   \n",
      "383  LP002493   Male      No          0      Graduate            No   \n",
      "384  LP002453   Male      No          0      Graduate           Yes   \n",
      "385  LP001256   Male      No          0      Graduate            No   \n",
      "387  LP001119   Male      No          0      Graduate            No   \n",
      "\n",
      "     ApplicantIncome  CoapplicantIncome  LoanAmount  Loan_Amount_Term  \\\n",
      "0               1538             1425.0        30.0             360.0   \n",
      "1               6133             3906.0       324.0             360.0   \n",
      "3               3859                0.0        96.0             360.0   \n",
      "5               2583             2167.0       104.0             360.0   \n",
      "6               5829                0.0       138.0             360.0   \n",
      "..               ...                ...         ...               ...   \n",
      "381             4917                0.0       130.0             360.0   \n",
      "383             4166                0.0        98.0             360.0   \n",
      "384             7085                0.0        84.0             360.0   \n",
      "385             3750             4750.0       176.0             360.0   \n",
      "387             3600                0.0        80.0             360.0   \n",
      "\n",
      "     Credit_History Property_Area  \n",
      "0               1.0         Urban  \n",
      "1               1.0         Urban  \n",
      "3               1.0     Semiurban  \n",
      "5               1.0         Rural  \n",
      "6               1.0         Rural  \n",
      "..              ...           ...  \n",
      "381             0.0         Rural  \n",
      "383             0.0     Semiurban  \n",
      "384             1.0     Semiurban  \n",
      "385             1.0         Urban  \n",
      "387             1.0         Urban  \n",
      "\n",
      "[298 rows x 12 columns] 0      Y\n",
      "1      Y\n",
      "3      Y\n",
      "5      Y\n",
      "6      Y\n",
      "      ..\n",
      "381    Y\n",
      "383    N\n",
      "384    Y\n",
      "385    N\n",
      "387    N\n",
      "Name: Loan_Status, Length: 298, dtype: object\n"
     ]
    }
   ],
   "source": [
    "# split data into training and validation sets \n",
    "\n",
    "split = int(len(train_data) * 0.8)\n",
    "\n",
    "\n",
    "X_train = features[:split]\n",
    "y_train = labels[:split]\n",
    "X_val = features[split:]\n",
    "y_val = labels[split:]\n",
    "\n",
    "print(X_train, y_train)\n"
   ]
  },
  {
   "cell_type": "markdown",
   "metadata": {},
   "source": [
    "#### 2. Build the tree model using training data and Gini Index as the splitting criteria"
   ]
  },
  {
   "cell_type": "code",
   "execution_count": 63,
   "metadata": {},
   "outputs": [],
   "source": [
    "import numpy as np\n",
    "import pandas as pd\n",
    "\n",
    "class DecisionTree:\n",
    "    def __init__(self, max_depth=None):\n",
    "        self.max_depth = max_depth\n",
    "\n",
    "    def gini_index(self, labels):\n",
    "        unique_labels, counts = np.unique(labels, return_counts=True)\n",
    "        probabilities = counts / len(labels)\n",
    "        gini = 1 - np.sum(probabilities**2)\n",
    "        return gini\n",
    "\n",
    "    def calculate_gini_index(self, groups, labels):\n",
    "        total_samples = sum(len(group) for group in groups)\n",
    "        gini_index_value = 0.0\n",
    "\n",
    "        for group in groups:\n",
    "            size = len(group)\n",
    "            if size == 0:\n",
    "                continue\n",
    "            proportion = size / total_samples\n",
    "            gini_index_value += proportion * self.gini_index(labels[group])\n",
    "\n",
    "        return gini_index_value\n",
    "\n",
    "    def split_dataset(self, dataset, attribute, value):\n",
    "        left_indices = np.where(dataset[attribute] <= value)[0]\n",
    "        right_indices = np.where(dataset[attribute] > value)[0]\n",
    "        return left_indices, right_indices\n",
    "\n",
    "    def find_best_split(self, dataset, labels):\n",
    "        best_gini_index = float('inf')\n",
    "        best_split = None\n",
    "\n",
    "        for attribute in dataset.columns[:-1]:  # Exclude the label column\n",
    "            unique_values = dataset[attribute].unique()\n",
    "            for value in unique_values:\n",
    "                groups = self.split_dataset(dataset, attribute, value)\n",
    "                gini_index_value = self.calculate_gini_index(groups, labels)\n",
    "\n",
    "                if gini_index_value < best_gini_index:\n",
    "                    best_gini_index = gini_index_value\n",
    "                    best_split = (attribute, value, groups)\n",
    "\n",
    "        return best_split\n",
    "\n",
    "    def build_tree(self, dataset, labels, depth):\n",
    "        dataset = dataset.reset_index(drop=True)\n",
    "        labels = labels.reset_index(drop=True)\n",
    "        if depth == 0 or len(np.unique(labels)) == 1:\n",
    "            return {'label': max(labels, key=list(labels).count)}\n",
    "\n",
    "        best_split = self.find_best_split(dataset, labels)\n",
    "        if best_split is None:\n",
    "            return {'label': max(labels, key=list(labels).count)}\n",
    "\n",
    "        attribute, value, groups = best_split\n",
    "        left_branch = self.build_tree(dataset.iloc[groups[0]], labels[groups[0]], depth - 1)\n",
    "        right_branch = self.build_tree(dataset.iloc[groups[1]], labels[groups[1]], depth - 1)\n",
    "\n",
    "        return {'attribute': attribute, 'value': value, 'left': left_branch, 'right': right_branch}\n",
    "\n",
    "    def fit(self, X, y):\n",
    "        self.tree = self.build_tree(X, y, self.max_depth)\n",
    "\n",
    "    def predict_instance(self, tree, row):\n",
    "        if 'label' in tree:\n",
    "            return tree['label']\n",
    "        if row[tree['attribute']] <= tree['value']:\n",
    "            return self.predict_instance(tree['left'], row)\n",
    "        else:\n",
    "            return self.predict_instance(tree['right'], row)\n",
    "\n",
    "    def predict(self, X):\n",
    "        return X.apply(lambda row: self.predict_instance(self.tree, row), axis=1)\n",
    "\n",
    "\n",
    "max_depth = 3  # You can adjust the maximum depth of the tree\n",
    "dt = DecisionTree(max_depth=max_depth)\n",
    "dt.fit(X_train, y_train)\n"
   ]
  },
  {
   "cell_type": "markdown",
   "metadata": {},
   "source": [
    "#### 2.1 Validate the trained model with the validation data"
   ]
  },
  {
   "cell_type": "code",
   "execution_count": 64,
   "metadata": {},
   "outputs": [
    {
     "name": "stdout",
     "output_type": "stream",
     "text": [
      "Validation Accuracy: 0.7866666666666666\n"
     ]
    }
   ],
   "source": [
    "# Validate the trained model\n",
    "predictions_validation = dt.predict(X_val)\n",
    "accuracy = np.sum(predictions_validation == y_val) / len(y_val)\n",
    "\n",
    "print(f\"Validation Accuracy: {accuracy}\")"
   ]
  },
  {
   "cell_type": "code",
   "execution_count": null,
   "metadata": {},
   "outputs": [],
   "source": []
  },
  {
   "cell_type": "markdown",
   "metadata": {},
   "source": [
    "#### 3. Using the trained model, conduct inference on the test data and save the predicted result in a separate file"
   ]
  },
  {
   "cell_type": "code",
   "execution_count": 65,
   "metadata": {},
   "outputs": [],
   "source": [
    "test_data = pd.read_csv('data_test.csv')\n",
    "test_data = test_data.drop(test_data.columns[0], axis=1)\n",
    "\n",
    "predictions_test = dt.predict(test_data)\n",
    "\n",
    "results = pd.DataFrame({'pred_tree': predictions_test})\n",
    "results.to_csv('Neha_Manghnani_preds.csv', index=False)\n",
    "\n"
   ]
  },
  {
   "cell_type": "markdown",
   "metadata": {},
   "source": [
    "## Part B - Boosting (30 points)"
   ]
  },
  {
   "cell_type": "markdown",
   "metadata": {},
   "source": [
    "#### 1. XGBoost model with L2 regularization"
   ]
  },
  {
   "cell_type": "code",
   "execution_count": 66,
   "metadata": {},
   "outputs": [],
   "source": [
    "\n",
    "\n",
    "def train_XGBoost(X, y):\n",
    "    lambda_params = [1e-3, 1e-2, 1e-1, 1, 1e1, 1e2, 1e3]\n",
    "    results = {}\n",
    "\n",
    "    for lam in lambda_params:\n",
    "        model = xgb.XGBClassifier(objective='binary:logistic', reg_lambda=lam)\n",
    "\n",
    "        # Using stratified K-fold cross-validation\n",
    "        cv = StratifiedKFold(n_splits=10, shuffle=True, random_state=42)\n",
    "        auc_scores = cross_val_score(model, X, y, cv=cv, scoring='roc_auc')\n",
    "\n",
    "        mean_auc = np.mean(auc_scores)\n",
    "        results[lam] = mean_auc\n",
    "\n",
    "    return results\n",
    "\n"
   ]
  },
  {
   "cell_type": "markdown",
   "metadata": {},
   "source": [
    "#### 2. Train and test the model with the best parameters you found."
   ]
  },
  {
   "cell_type": "code",
   "execution_count": 67,
   "metadata": {},
   "outputs": [
    {
     "name": "stdout",
     "output_type": "stream",
     "text": [
      "Optimal Lambda for L2 Regularization: 10.0\n",
      "Mean AUC for Optimal Lambda: 0.7202116402116403\n"
     ]
    }
   ],
   "source": [
    "split = int(len(train_data) * 0.8)\n",
    "X_train = X_encoded[:split]\n",
    "y_train = y_encoded[:split]\n",
    "X_val = X_encoded[split:]\n",
    "y_val = y_encoded[split:]\n",
    "\n",
    "results_dict = train_XGBoost(X_train, y_train)\n",
    "\n",
    "best_lambda = max(results_dict, key=results_dict.get)\n",
    "print(f\"Optimal Lambda for L2 Regularization: {best_lambda}\")\n",
    "print(f\"Mean AUC for Optimal Lambda: {results_dict[best_lambda]}\")\n",
    "\n",
    "best_model = xgb.XGBClassifier(objective='binary:logistic', reg_lambda=best_lambda)\n",
    "best_model.fit(X_train, y_train)\n",
    "\n",
    "best_model_predictions = best_model.predict(X_val)\n",
    "\n",
    "\n"
   ]
  },
  {
   "cell_type": "markdown",
   "metadata": {},
   "source": [
    "#### 3. Plot the ROC curve for the XGBoost model on validation data and also print the area under the curve. "
   ]
  },
  {
   "cell_type": "code",
   "execution_count": 68,
   "metadata": {},
   "outputs": [
    {
     "name": "stdout",
     "output_type": "stream",
     "text": [
      "Area under the ROC curve: 0.8472644376899696\n"
     ]
    },
    {
     "data": {
      "image/png": "[encoded data removed]",
      "text/plain": [
       "<Figure size 800x600 with 1 Axes>"
      ]
     },
     "metadata": {},
     "output_type": "display_data"
    }
   ],
   "source": [
    "probs_val = best_model.predict_proba(X_val)[:, 1]\n",
    "\n",
    "fpr, tpr, thresholds = roc_curve(y_val, probs_val)\n",
    "\n",
    "auc_score = roc_auc_score(y_val, probs_val)\n",
    "print(f\"Area under the ROC curve: {auc_score}\")\n",
    "\n",
    "# Plot ROC curve\n",
    "plt.figure(figsize=(8, 6))\n",
    "plt.plot(fpr, tpr, color='blue', lw=2, label=f'AUC = {auc_score:.2f}')\n",
    "plt.plot([0, 1], [0, 1], color='gray', linestyle='--')\n",
    "plt.xlabel('False Positive Rate')\n",
    "plt.ylabel('True Positive Rate')\n",
    "plt.title('ROC Curve - XGBoost Model on Validation Data')\n",
    "plt.legend(loc='lower right')\n",
    "plt.show()"
   ]
  },
  {
   "cell_type": "markdown",
   "metadata": {},
   "source": [
    "#### 4. Compare the validation result you obtained using XGBoost with the results using the tree you implemented in part A. Which model did perform better and why?"
   ]
  },
  {
   "cell_type": "markdown",
   "metadata": {},
   "source": [
    "The model implemented in part A performed better. Since this is a smaller dataset, XGBoost overfits the data due to which it has lower validation accuracy when compared to the self implemented decision tree in part A. For smaller datasets, decision trees would be expected to perform better than XGBoost. \n",
    "\n",
    "Although, in general XGBoost is expected to perform better than a simple decision tree. This is because decision trees lack regularization techniques which makes it prone to overfitting. Also, if the dataset is more complex, XGBoost will be effective in identifying the complex patterns in the data which a single decision tree will not be able to capture."
   ]
  },
  {
   "cell_type": "markdown",
   "metadata": {},
   "source": [
    "#### 5. Using the trained model, conduct inference on the test data and save the predicted result into the predictions csv file"
   ]
  },
  {
   "cell_type": "code",
   "execution_count": 69,
   "metadata": {},
   "outputs": [],
   "source": [
    "\n",
    "test_data = pd.read_csv('data_test.csv')\n",
    "test_data = test_data.drop(test_data.columns[0], axis=1)\n",
    "\n",
    "test_data_encoded = test_data.copy()    \n",
    "for col in categorical_cols:\n",
    "    test_data_encoded[col] = label_encoder.fit_transform(test_data[col])\n",
    "\n",
    "test_data_encoded = test_data_encoded[categorical_cols + numerical_cols]\n",
    "\n",
    "predictions_file = pd.read_csv('Neha_Manghnani_preds.csv')\n",
    "\n",
    "predictions_test = best_model.predict(test_data_encoded)\n",
    "results = pd.DataFrame({'pred_xgboost': predictions_test})\n",
    "predictions_file = pd.concat([predictions_file, results], axis=1)\n",
    "predictions_file['pred_xgboost'] = predictions_file['pred_xgboost'].map({1: 'Y', 0: 'N'})\n",
    "\n",
    "\n",
    "predictions_file.to_csv('Neha_Manghnani_preds.csv', index=False)"
   ]
  },
  {
   "cell_type": "markdown",
   "metadata": {},
   "source": []
  },
  {
   "cell_type": "markdown",
   "metadata": {},
   "source": []
  }
 ],
 "metadata": {
  "kernelspec": {
   "display_name": "Python 3",
   "language": "python",
   "name": "python3"
  },
  "language_info": {
   "codemirror_mode": {
    "name": "ipython",
    "version": 3
   },
   "file_extension": ".py",
   "mimetype": "text/x-python",
   "name": "python",
   "nbconvert_exporter": "python",
   "pygments_lexer": "ipython3",
   "version": "3.12.1"
  }
 },
 "nbformat": 4,
 "nbformat_minor": 2
}
